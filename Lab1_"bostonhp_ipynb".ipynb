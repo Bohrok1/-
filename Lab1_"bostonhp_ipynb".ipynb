{
  "nbformat": 4,
  "nbformat_minor": 0,
  "metadata": {
    "colab": {
      "name": "Lab1 \"bostonhp.ipynb\"",
      "provenance": [],
      "toc_visible": true,
      "include_colab_link": true
    },
    "kernelspec": {
      "name": "python3",
      "display_name": "Python 3"
    },
    "accelerator": "TPU"
  },
  "cells": [
    {
      "cell_type": "markdown",
      "metadata": {
        "id": "view-in-github",
        "colab_type": "text"
      },
      "source": [
        "<a href=\"https://colab.research.google.com/github/Bohrok1/-Game/blob/master/Lab1_%22bostonhp_ipynb%22.ipynb\" target=\"_parent\"><img src=\"https://colab.research.google.com/assets/colab-badge.svg\" alt=\"Open In Colab\"/></a>"
      ]
    },
    {
      "cell_type": "markdown",
      "metadata": {
        "id": "UjfquuN3HkHt"
      },
      "source": [
        "# Оценка стоимости недвижимости с помощью нейронной сети\n",
        "\n",
        "\n",
        "Чтобы запускать и редактировать код, сохраните копию этого ноутбука себе (File->Save a copy in Drive...). Свою копию вы сможете изменять и запускать."
      ]
    },
    {
      "cell_type": "code",
      "metadata": {
        "id": "VY9tayQBHh1M"
      },
      "source": [
        "from tensorflow.python.keras.datasets import boston_housing\n",
        "from tensorflow.python.keras.models import Sequential\n",
        "from tensorflow.python.keras.layers import Dense"
      ],
      "execution_count": null,
      "outputs": []
    },
    {
      "cell_type": "markdown",
      "metadata": {
        "id": "lzmoZSmvH41N"
      },
      "source": [
        "## Подготовка данных"
      ]
    },
    {
      "cell_type": "markdown",
      "metadata": {
        "id": "s8hejqycICpn"
      },
      "source": [
        "**Загружаем данные**"
      ]
    },
    {
      "cell_type": "code",
      "metadata": {
        "id": "aBte_p1uH_NP",
        "outputId": "0433dcd1-3964-456d-826c-725a502ae987",
        "colab": {
          "base_uri": "https://localhost:8080/",
          "height": 51
        }
      },
      "source": [
        "(x_train, y_train), (x_test, y_test) = boston_housing.load_data()"
      ],
      "execution_count": null,
      "outputs": [
        {
          "output_type": "stream",
          "text": [
            "Downloading data from https://storage.googleapis.com/tensorflow/tf-keras-datasets/boston_housing.npz\n",
            "57344/57026 [==============================] - 0s 0us/step\n"
          ],
          "name": "stdout"
        }
      ]
    },
    {
      "cell_type": "markdown",
      "metadata": {
        "id": "FaxQEJNPINzd"
      },
      "source": [
        "**Просмотр данных**"
      ]
    },
    {
      "cell_type": "code",
      "metadata": {
        "id": "rPCzteI5IS09",
        "outputId": "547be3d3-4acd-4f2a-b81c-6d556df22991",
        "colab": {
          "base_uri": "https://localhost:8080/",
          "height": 68
        }
      },
      "source": [
        "n = 4\n",
        "print(x_train[n])\n",
        "print(y_train[n])"
      ],
      "execution_count": null,
      "outputs": [
        {
          "output_type": "stream",
          "text": [
            "[  3.69311   0.       18.1       0.        0.713     6.376    88.4\n",
            "   2.5671   24.      666.       20.2     391.43     14.65   ]\n",
            "17.7\n"
          ],
          "name": "stdout"
        }
      ]
    },
    {
      "cell_type": "markdown",
      "metadata": {
        "id": "H2-y8KVEIhHN"
      },
      "source": [
        "**Стандартизация данных**\n",
        "\n",
        "Вычитаем среднее значение и делим на стандартное отклонение"
      ]
    },
    {
      "cell_type": "code",
      "metadata": {
        "id": "YiOT7gOXIp9d"
      },
      "source": [
        "# Среднее значение\n",
        "mean = x_train.mean(axis=0)\n",
        "# Стандартное отклонение\n",
        "std = x_train.std(axis=0)\n",
        "x_train -= mean\n",
        "x_train /= std\n",
        "x_test -= mean\n",
        "x_test /= std"
      ],
      "execution_count": null,
      "outputs": []
    },
    {
      "cell_type": "markdown",
      "metadata": {
        "id": "RmlSp15AK_JG"
      },
      "source": [
        "## Создаем нейронную сеть\n",
        "\n",
        "Выходной слой с одним линейным нейроном - для задачи регрессии функция активации не используется.\n",
        "\n",
        "Функция ошибки - среднеквадратичное отклонение. Метрика - среднее абсолютное отклонение."
      ]
    },
    {
      "cell_type": "code",
      "metadata": {
        "id": "YnCnMQ91LCKV"
      },
      "source": [
        "model = Sequential()\n",
        "model.add(Dense(128, activation='relu', input_shape=(x_train.shape[1],)))\n",
        "model.add(Dense(1))"
      ],
      "execution_count": null,
      "outputs": []
    },
    {
      "cell_type": "code",
      "metadata": {
        "id": "kFAVtJ1Z5jhy",
        "outputId": "6a6d82ec-c283-4859-821d-0698939b0a41",
        "colab": {
          "base_uri": "https://localhost:8080/",
          "height": 238
        }
      },
      "source": [
        "print(model.summary())"
      ],
      "execution_count": null,
      "outputs": [
        {
          "output_type": "stream",
          "text": [
            "Model: \"sequential\"\n",
            "_________________________________________________________________\n",
            "Layer (type)                 Output Shape              Param #   \n",
            "=================================================================\n",
            "dense (Dense)                (None, 128)               1792      \n",
            "_________________________________________________________________\n",
            "dense_1 (Dense)              (None, 1)                 129       \n",
            "=================================================================\n",
            "Total params: 1,921\n",
            "Trainable params: 1,921\n",
            "Non-trainable params: 0\n",
            "_________________________________________________________________\n",
            "None\n"
          ],
          "name": "stdout"
        }
      ]
    },
    {
      "cell_type": "markdown",
      "metadata": {
        "id": "F3g-CAK5LPx1"
      },
      "source": [
        "**Компилируем сеть**"
      ]
    },
    {
      "cell_type": "code",
      "metadata": {
        "id": "WOdqoaTkLNCe"
      },
      "source": [
        "model.compile(optimizer='adam', loss='mse', metrics=['mae'])"
      ],
      "execution_count": null,
      "outputs": []
    },
    {
      "cell_type": "markdown",
      "metadata": {
        "id": "cuE2Ekt1LeUW"
      },
      "source": [
        "## Обучаем нейронную сеть"
      ]
    },
    {
      "cell_type": "code",
      "metadata": {
        "id": "1EcFPWZcLmRl",
        "outputId": "a3f283f2-c20a-44ac-db06-86749f40fd36",
        "colab": {
          "base_uri": "https://localhost:8080/",
          "height": 1000
        }
      },
      "source": [
        "model.fit(x_train, y_train, epochs=100, batch_size=1, verbose=2)"
      ],
      "execution_count": null,
      "outputs": [
        {
          "output_type": "stream",
          "text": [
            "Epoch 1/100\n",
            "404/404 - 0s - loss: 318.5142 - mae: 14.9558\n",
            "Epoch 2/100\n",
            "404/404 - 0s - loss: 40.6870 - mae: 4.4594\n",
            "Epoch 3/100\n",
            "404/404 - 0s - loss: 24.9699 - mae: 3.4062\n",
            "Epoch 4/100\n",
            "404/404 - 0s - loss: 20.8633 - mae: 3.1136\n",
            "Epoch 5/100\n",
            "404/404 - 0s - loss: 18.1204 - mae: 3.0331\n",
            "Epoch 6/100\n",
            "404/404 - 0s - loss: 15.9416 - mae: 2.7886\n",
            "Epoch 7/100\n",
            "404/404 - 0s - loss: 13.8729 - mae: 2.6490\n",
            "Epoch 8/100\n",
            "404/404 - 0s - loss: 12.5056 - mae: 2.4917\n",
            "Epoch 9/100\n",
            "404/404 - 0s - loss: 11.5050 - mae: 2.3697\n",
            "Epoch 10/100\n",
            "404/404 - 0s - loss: 10.5231 - mae: 2.2975\n",
            "Epoch 11/100\n",
            "404/404 - 0s - loss: 10.2034 - mae: 2.2668\n",
            "Epoch 12/100\n",
            "404/404 - 0s - loss: 9.7005 - mae: 2.1997\n",
            "Epoch 13/100\n",
            "404/404 - 0s - loss: 9.3369 - mae: 2.1741\n",
            "Epoch 14/100\n",
            "404/404 - 0s - loss: 9.1919 - mae: 2.1402\n",
            "Epoch 15/100\n",
            "404/404 - 0s - loss: 8.7644 - mae: 2.1413\n",
            "Epoch 16/100\n",
            "404/404 - 0s - loss: 9.0690 - mae: 2.1408\n",
            "Epoch 17/100\n",
            "404/404 - 0s - loss: 8.4096 - mae: 2.0554\n",
            "Epoch 18/100\n",
            "404/404 - 0s - loss: 8.4438 - mae: 2.0818\n",
            "Epoch 19/100\n",
            "404/404 - 0s - loss: 7.9701 - mae: 2.0114\n",
            "Epoch 20/100\n",
            "404/404 - 0s - loss: 7.8540 - mae: 1.9906\n",
            "Epoch 21/100\n",
            "404/404 - 0s - loss: 8.0029 - mae: 1.9851\n",
            "Epoch 22/100\n",
            "404/404 - 0s - loss: 7.5236 - mae: 1.9693\n",
            "Epoch 23/100\n",
            "404/404 - 0s - loss: 7.7356 - mae: 1.9657\n",
            "Epoch 24/100\n",
            "404/404 - 0s - loss: 7.7023 - mae: 1.9412\n",
            "Epoch 25/100\n",
            "404/404 - 0s - loss: 7.5350 - mae: 1.9586\n",
            "Epoch 26/100\n",
            "404/404 - 0s - loss: 7.3901 - mae: 1.9194\n",
            "Epoch 27/100\n",
            "404/404 - 0s - loss: 7.2909 - mae: 1.9159\n",
            "Epoch 28/100\n",
            "404/404 - 0s - loss: 7.1647 - mae: 1.9019\n",
            "Epoch 29/100\n",
            "404/404 - 0s - loss: 6.9005 - mae: 1.9120\n",
            "Epoch 30/100\n",
            "404/404 - 0s - loss: 7.0145 - mae: 1.8773\n",
            "Epoch 31/100\n",
            "404/404 - 0s - loss: 6.7368 - mae: 1.8645\n",
            "Epoch 32/100\n",
            "404/404 - 0s - loss: 6.6061 - mae: 1.7926\n",
            "Epoch 33/100\n",
            "404/404 - 0s - loss: 6.6939 - mae: 1.8571\n",
            "Epoch 34/100\n",
            "404/404 - 0s - loss: 6.7508 - mae: 1.8693\n",
            "Epoch 35/100\n",
            "404/404 - 0s - loss: 6.2549 - mae: 1.8146\n",
            "Epoch 36/100\n",
            "404/404 - 0s - loss: 6.3024 - mae: 1.8064\n",
            "Epoch 37/100\n",
            "404/404 - 0s - loss: 6.1495 - mae: 1.7395\n",
            "Epoch 38/100\n",
            "404/404 - 0s - loss: 6.4545 - mae: 1.8053\n",
            "Epoch 39/100\n",
            "404/404 - 0s - loss: 6.1381 - mae: 1.8072\n",
            "Epoch 40/100\n",
            "404/404 - 0s - loss: 5.9409 - mae: 1.7381\n",
            "Epoch 41/100\n",
            "404/404 - 0s - loss: 5.9672 - mae: 1.7619\n",
            "Epoch 42/100\n",
            "404/404 - 0s - loss: 6.0654 - mae: 1.7701\n",
            "Epoch 43/100\n",
            "404/404 - 0s - loss: 5.9333 - mae: 1.7489\n",
            "Epoch 44/100\n",
            "404/404 - 0s - loss: 5.8847 - mae: 1.7584\n",
            "Epoch 45/100\n",
            "404/404 - 0s - loss: 6.0246 - mae: 1.7635\n",
            "Epoch 46/100\n",
            "404/404 - 0s - loss: 5.9078 - mae: 1.7087\n",
            "Epoch 47/100\n",
            "404/404 - 0s - loss: 5.6859 - mae: 1.6766\n",
            "Epoch 48/100\n",
            "404/404 - 0s - loss: 5.7144 - mae: 1.7043\n",
            "Epoch 49/100\n",
            "404/404 - 0s - loss: 5.6369 - mae: 1.6822\n",
            "Epoch 50/100\n",
            "404/404 - 0s - loss: 5.6726 - mae: 1.6990\n",
            "Epoch 51/100\n",
            "404/404 - 0s - loss: 5.5219 - mae: 1.6743\n",
            "Epoch 52/100\n",
            "404/404 - 0s - loss: 5.7258 - mae: 1.7512\n",
            "Epoch 53/100\n",
            "404/404 - 0s - loss: 5.5895 - mae: 1.6958\n",
            "Epoch 54/100\n",
            "404/404 - 0s - loss: 5.5779 - mae: 1.6850\n",
            "Epoch 55/100\n",
            "404/404 - 0s - loss: 5.5370 - mae: 1.7019\n",
            "Epoch 56/100\n",
            "404/404 - 0s - loss: 5.5416 - mae: 1.6844\n",
            "Epoch 57/100\n",
            "404/404 - 0s - loss: 5.3336 - mae: 1.6441\n",
            "Epoch 58/100\n",
            "404/404 - 0s - loss: 5.1892 - mae: 1.6150\n",
            "Epoch 59/100\n",
            "404/404 - 0s - loss: 5.2373 - mae: 1.6309\n",
            "Epoch 60/100\n",
            "404/404 - 0s - loss: 5.4270 - mae: 1.6329\n",
            "Epoch 61/100\n",
            "404/404 - 0s - loss: 5.2157 - mae: 1.6404\n",
            "Epoch 62/100\n",
            "404/404 - 0s - loss: 5.1575 - mae: 1.6172\n",
            "Epoch 63/100\n",
            "404/404 - 0s - loss: 5.1719 - mae: 1.6258\n",
            "Epoch 64/100\n",
            "404/404 - 0s - loss: 5.2106 - mae: 1.6417\n",
            "Epoch 65/100\n",
            "404/404 - 0s - loss: 5.1013 - mae: 1.6034\n",
            "Epoch 66/100\n",
            "404/404 - 0s - loss: 5.1702 - mae: 1.5913\n",
            "Epoch 67/100\n",
            "404/404 - 0s - loss: 5.0274 - mae: 1.5888\n",
            "Epoch 68/100\n",
            "404/404 - 0s - loss: 4.9433 - mae: 1.6318\n",
            "Epoch 69/100\n",
            "404/404 - 0s - loss: 4.9127 - mae: 1.6175\n",
            "Epoch 70/100\n",
            "404/404 - 0s - loss: 4.9421 - mae: 1.5857\n",
            "Epoch 71/100\n",
            "404/404 - 0s - loss: 4.9302 - mae: 1.5767\n",
            "Epoch 72/100\n",
            "404/404 - 0s - loss: 4.8203 - mae: 1.5370\n",
            "Epoch 73/100\n",
            "404/404 - 0s - loss: 4.7800 - mae: 1.5368\n",
            "Epoch 74/100\n",
            "404/404 - 0s - loss: 5.0344 - mae: 1.6522\n",
            "Epoch 75/100\n",
            "404/404 - 0s - loss: 4.7841 - mae: 1.5838\n",
            "Epoch 76/100\n",
            "404/404 - 0s - loss: 4.7015 - mae: 1.5470\n",
            "Epoch 77/100\n",
            "404/404 - 0s - loss: 4.7416 - mae: 1.5025\n",
            "Epoch 78/100\n",
            "404/404 - 0s - loss: 4.5351 - mae: 1.4869\n",
            "Epoch 79/100\n",
            "404/404 - 0s - loss: 4.6921 - mae: 1.5323\n",
            "Epoch 80/100\n",
            "404/404 - 0s - loss: 4.6875 - mae: 1.5327\n",
            "Epoch 81/100\n",
            "404/404 - 0s - loss: 4.5385 - mae: 1.5500\n",
            "Epoch 82/100\n",
            "404/404 - 0s - loss: 4.5998 - mae: 1.5156\n",
            "Epoch 83/100\n",
            "404/404 - 0s - loss: 4.5026 - mae: 1.5043\n",
            "Epoch 84/100\n",
            "404/404 - 0s - loss: 4.5305 - mae: 1.5373\n",
            "Epoch 85/100\n",
            "404/404 - 0s - loss: 4.5223 - mae: 1.5246\n",
            "Epoch 86/100\n",
            "404/404 - 0s - loss: 4.6472 - mae: 1.5572\n",
            "Epoch 87/100\n",
            "404/404 - 0s - loss: 4.5309 - mae: 1.5378\n",
            "Epoch 88/100\n",
            "404/404 - 0s - loss: 4.4430 - mae: 1.4791\n",
            "Epoch 89/100\n",
            "404/404 - 0s - loss: 4.3920 - mae: 1.5118\n",
            "Epoch 90/100\n",
            "404/404 - 0s - loss: 4.5244 - mae: 1.4997\n",
            "Epoch 91/100\n",
            "404/404 - 0s - loss: 4.3164 - mae: 1.4943\n",
            "Epoch 92/100\n",
            "404/404 - 0s - loss: 4.4132 - mae: 1.4908\n",
            "Epoch 93/100\n",
            "404/404 - 0s - loss: 4.2361 - mae: 1.4823\n",
            "Epoch 94/100\n",
            "404/404 - 0s - loss: 4.2244 - mae: 1.4415\n",
            "Epoch 95/100\n",
            "404/404 - 0s - loss: 4.4426 - mae: 1.4921\n",
            "Epoch 96/100\n",
            "404/404 - 0s - loss: 4.3258 - mae: 1.4610\n",
            "Epoch 97/100\n",
            "404/404 - 0s - loss: 4.3443 - mae: 1.4475\n",
            "Epoch 98/100\n",
            "404/404 - 0s - loss: 4.1729 - mae: 1.4420\n",
            "Epoch 99/100\n",
            "404/404 - 0s - loss: 4.2174 - mae: 1.4370\n",
            "Epoch 100/100\n",
            "404/404 - 0s - loss: 4.2057 - mae: 1.4521\n"
          ],
          "name": "stdout"
        },
        {
          "output_type": "execute_result",
          "data": {
            "text/plain": [
              "<tensorflow.python.keras.callbacks.History at 0x7f79afa9dcf8>"
            ]
          },
          "metadata": {
            "tags": []
          },
          "execution_count": 8
        }
      ]
    },
    {
      "cell_type": "markdown",
      "metadata": {
        "id": "UDHMw_dEH7_0"
      },
      "source": [
        "## Используем модель для предсказаний"
      ]
    },
    {
      "cell_type": "markdown",
      "metadata": {
        "id": "pHOIK7qaOns1"
      },
      "source": [
        "**Выполняем предсказание для тестовой выборки**"
      ]
    },
    {
      "cell_type": "code",
      "metadata": {
        "id": "5LYrptorOjPe"
      },
      "source": [
        "pred = model.predict(x_test)"
      ],
      "execution_count": null,
      "outputs": []
    },
    {
      "cell_type": "code",
      "metadata": {
        "id": "_D55LA1i7E4J",
        "outputId": "10df9441-762b-43bc-8c59-f7bada35ac72",
        "colab": {
          "base_uri": "https://localhost:8080/",
          "height": 1000
        }
      },
      "source": [
        "print(pred)"
      ],
      "execution_count": null,
      "outputs": [
        {
          "output_type": "stream",
          "text": [
            "[[ 9.839955 ]\n",
            " [17.872038 ]\n",
            " [21.368053 ]\n",
            " [36.593372 ]\n",
            " [24.511017 ]\n",
            " [22.870811 ]\n",
            " [28.095795 ]\n",
            " [21.730516 ]\n",
            " [18.792658 ]\n",
            " [22.066853 ]\n",
            " [17.898287 ]\n",
            " [15.597445 ]\n",
            " [15.662231 ]\n",
            " [43.190132 ]\n",
            " [22.284899 ]\n",
            " [20.109776 ]\n",
            " [24.743917 ]\n",
            " [19.355574 ]\n",
            " [19.204302 ]\n",
            " [24.07426  ]\n",
            " [12.600403 ]\n",
            " [13.874411 ]\n",
            " [22.396484 ]\n",
            " [15.55714  ]\n",
            " [17.831522 ]\n",
            " [23.959421 ]\n",
            " [31.031853 ]\n",
            " [28.142792 ]\n",
            " [12.534685 ]\n",
            " [18.541368 ]\n",
            " [20.015635 ]\n",
            " [15.658928 ]\n",
            " [34.125805 ]\n",
            " [22.943493 ]\n",
            " [18.232311 ]\n",
            " [ 8.257938 ]\n",
            " [16.62244  ]\n",
            " [16.593538 ]\n",
            " [20.36895  ]\n",
            " [25.858677 ]\n",
            " [29.699781 ]\n",
            " [27.066723 ]\n",
            " [13.963026 ]\n",
            " [44.606564 ]\n",
            " [29.28119  ]\n",
            " [26.544891 ]\n",
            " [28.117952 ]\n",
            " [19.410734 ]\n",
            " [24.08899  ]\n",
            " [23.068026 ]\n",
            " [34.75337  ]\n",
            " [18.980532 ]\n",
            " [10.82603  ]\n",
            " [13.44925  ]\n",
            " [36.05857  ]\n",
            " [28.003971 ]\n",
            " [12.730547 ]\n",
            " [49.194294 ]\n",
            " [36.667595 ]\n",
            " [22.866333 ]\n",
            " [24.685238 ]\n",
            " [16.908916 ]\n",
            " [17.993814 ]\n",
            " [20.582983 ]\n",
            " [24.062181 ]\n",
            " [19.18525  ]\n",
            " [14.877368 ]\n",
            " [20.671803 ]\n",
            " [12.764087 ]\n",
            " [ 8.510486 ]\n",
            " [22.615175 ]\n",
            " [29.604221 ]\n",
            " [26.530647 ]\n",
            " [13.340099 ]\n",
            " [25.348644 ]\n",
            " [17.92832  ]\n",
            " [18.150614 ]\n",
            " [24.70259  ]\n",
            " [36.20832  ]\n",
            " [10.922313 ]\n",
            " [22.37165  ]\n",
            " [37.881584 ]\n",
            " [14.811445 ]\n",
            " [13.8812065]\n",
            " [17.037045 ]\n",
            " [17.169584 ]\n",
            " [23.826633 ]\n",
            " [21.840797 ]\n",
            " [21.721    ]\n",
            " [30.870235 ]\n",
            " [20.286364 ]\n",
            " [18.258501 ]\n",
            " [25.677315 ]\n",
            " [43.472298 ]\n",
            " [37.41726  ]\n",
            " [20.971128 ]\n",
            " [34.951668 ]\n",
            " [44.805244 ]\n",
            " [24.41107  ]\n",
            " [51.760513 ]\n",
            " [33.03819  ]\n",
            " [19.65416  ]]\n"
          ],
          "name": "stdout"
        }
      ]
    },
    {
      "cell_type": "markdown",
      "metadata": {
        "id": "TTw_JA5TOiYF"
      },
      "source": [
        "**Печатаем примеры результатов**"
      ]
    },
    {
      "cell_type": "code",
      "metadata": {
        "id": "L5KdJducOuwt",
        "outputId": "ce933b56-6aed-4fdd-af23-2462410736ab",
        "colab": {
          "base_uri": "https://localhost:8080/",
          "height": 34
        }
      },
      "source": [
        "test_index=7\n",
        "print(\"Предсказанная стоимость:\", pred[test_index][0], \", правильная стоимость:\", y_test[test_index])"
      ],
      "execution_count": null,
      "outputs": [
        {
          "output_type": "stream",
          "text": [
            "Предсказанная стоимость: 21.730516 , правильная стоимость: 22.9\n"
          ],
          "name": "stdout"
        }
      ]
    },
    {
      "cell_type": "code",
      "metadata": {
        "id": "BghlkB57UO5V",
        "outputId": "97a2d239-a997-4772-b6ca-a5937ed2208e",
        "colab": {
          "base_uri": "https://localhost:8080/",
          "height": 122
        }
      },
      "source": [
        "from google.colab import drive\n",
        "drive.mount('/content/drive')"
      ],
      "execution_count": null,
      "outputs": [
        {
          "output_type": "stream",
          "text": [
            "Go to this URL in a browser: https://accounts.google.com/o/oauth2/auth?client_id=947318989803-6bn6qk8qdgf4n4g3pfee6491hc0brc4i.apps.googleusercontent.com&redirect_uri=urn%3aietf%3awg%3aoauth%3a2.0%3aoob&scope=email%20https%3a%2f%2fwww.googleapis.com%2fauth%2fdocs.test%20https%3a%2f%2fwww.googleapis.com%2fauth%2fdrive%20https%3a%2f%2fwww.googleapis.com%2fauth%2fdrive.photos.readonly%20https%3a%2f%2fwww.googleapis.com%2fauth%2fpeopleapi.readonly&response_type=code\n",
            "\n",
            "Enter your authorization code:\n",
            "··········\n",
            "Mounted at /content/drive\n"
          ],
          "name": "stdout"
        }
      ]
    }
  ]
}